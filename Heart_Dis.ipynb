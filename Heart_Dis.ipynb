{
  "cells": [
    {
      "cell_type": "markdown",
      "id": "97ebe743-b79d-43f1-bccd-437a08e7104f",
      "metadata": {
        "id": "97ebe743-b79d-43f1-bccd-437a08e7104f"
      },
      "source": [
        "# Project Roadmap: Heart Disease Prediction (UCI Dataset)\n",
        "\n",
        "To better understand the full lifecycle of a machine learning project, we will follow these stages:\n",
        "\n",
        "---\n",
        "\n",
        "## 1. Exploratory Data Analysis (EDA)\n",
        "- Understand the dataset structure.  \n",
        "- Explore target variable (`num`).  \n",
        "- Summarize categorical and numerical features.  \n",
        "- Detect missing values and data types.  \n",
        "\n",
        "---\n",
        "\n",
        "## 2. Data Preparation\n",
        "- Remove unnecessary columns (e.g., `id`).  \n",
        "- Convert target variable into **Binary Classification** (`0` = No disease, `1` = Disease).  \n",
        "- Handle missing values (imputation with mean/median/mode).  \n",
        "- Encode categorical features (`sex`, `cp`, `restecg`, `slope`, `thal`, `origin`).  \n",
        "- Scale numerical features (`age`, `trestbps`, `chol`, `thalach`, `oldpeak`, `ca`).  \n",
        "\n",
        "---\n",
        "\n",
        "## 3. Data Cleansing\n",
        "- Detect and handle outliers in numerical columns.  \n",
        "- Ensure categorical features contain valid and consistent values.  \n",
        "- Remove duplicate records if any.  \n",
        "\n",
        "---\n",
        "\n",
        "## 4. Feature Engineering & Selection\n",
        "- Apply **One-Hot Encoding** or **Label Encoding** for categorical features.  \n",
        "- Use **Correlation Analysis** to find relationships between features.  \n",
        "- Select the most important features for modeling (e.g., using `SelectKBest`, feature importance from tree models).  \n",
        "\n",
        "---\n",
        "\n",
        "## 5. Model Training\n",
        "- Split dataset into **Training (80%)** and **Testing (20%)**.  \n",
        "- Train multiple models:  \n",
        "  - Logistic Regression  \n",
        "  - Decision Tree / Random Forest  \n",
        "  - Support Vector Machine (SVM)  \n",
        "  - Gradient Boosting (XGBoost/LightGBM)  \n",
        "  - Neural Network (optional, advanced)  \n",
        "\n",
        "---\n",
        "\n",
        "## 6. Model Evaluation\n",
        "- Evaluate performance using:  \n",
        "  - Accuracy  \n",
        "  - Precision, Recall, F1-score  \n",
        "  - ROC Curve & AUC  \n",
        "  - Confusion Matrix  \n",
        "\n",
        "- Compare models and select the best-performing one.  \n",
        "\n",
        "---\n",
        "\n",
        "## 7. Model Deployment\n",
        "- Save the trained model (`pickle` or `joblib`).  \n",
        "- Create a simple prediction pipeline for new patients.  \n",
        "- Optional: Deploy using **Flask / FastAPI** or integrate into a dashboard (Streamlit).  \n",
        "\n",
        "---\n",
        "\n",
        "## 8. Insights & Conclusion\n",
        "- Summarize findings.  \n",
        "- Highlight which features are most predictive of heart disease.  \n",
        "- Discuss limitations and possible improvements.  \n",
        "\n",
        "---\n"
      ]
    },
    {
      "cell_type": "markdown",
      "id": "d5967751-3be3-42bb-adad-a5408c530b92",
      "metadata": {
        "id": "d5967751-3be3-42bb-adad-a5408c530b92"
      },
      "source": [
        "# Heart Disease Prediction Project (UCI Dataset)\n",
        "\n",
        "In this project, we will treat the **Heart Disease UCI Dataset** as a real-world problem and apply all stages:  \n",
        "**Data Preparation → Data Cleansing → Feature Extraction/Selection → Model Training → Evaluation → Deployment**\n",
        "\n",
        "---\n",
        "\n",
        "## Step 1: Exploratory Data Analysis (EDA)\n",
        "\n",
        "### General Description\n",
        "- **Dataset Name:** Heart Disease UCI Dataset  \n",
        "- **Source:** Kaggle + UCI Repository  \n",
        "- **Task:** Classification → Predict whether a patient has heart disease (`num`)  \n",
        "\n",
        "---\n",
        "\n",
        "### Target Variable\n",
        "- **num (the predicted attribute):**\n",
        "  - `0` → No heart disease  \n",
        "  - `1, 2, 3, 4` → Different levels    eart disease  \n",
        "\n",
        "👉 In most research, this is converted into **Binary Classification**:  \n",
        "- `0` = No disease  \n",
        "- `1` = Presence of disease (any value from 1–4)  \n",
        "\n",
        "---\n",
        "\n",
        "### Features (Independent Variables)\n",
        "\n",
        "- **id** (Unique Identifier) → Unique ID for each patient (**Not used in training**)  \n",
        "- **age** (Numeric) → Age of the patient in years  \n",
        "- **origin** (Categorical) → Place of study (Budapest, Zurich, Basel, Long Beach, Cleveland)  \n",
        "- **sex** (Categorical: `Male/Female`) → Gender  \n",
        "\n",
        "- **cp** (Categorical: chest pain type):  \n",
        "  - Typical angina  \n",
        "  - Atypical angina  \n",
        "  - Non-anginal pain  \n",
        "  - Asymptomatic  \n",
        "\n",
        "- **trestbps** (Numeric) → Resting blood pressure (mm Hg)  \n",
        "- **chol** (Numeric) → Serum cholesterol (mg/dl)  \n",
        "- **fbs** (Categorical: `True/False`) → Fasting blood sugar > 120 mg/dl  \n",
        "\n",
        "- **restecg** (Categorical: resting electrocardiographic results):  \n",
        "  - Normal  \n",
        "  - ST-T wave abnormality  \n",
        "  - Left ventricular hypertrophy  \n",
        "\n",
        "- **thalach** (Numeric) → Maximum heart rate achieved  \n",
        "- **exang** (Categorical: `True/False`) → Exercise induced angina  \n",
        "- **oldpeak** (Numeric) → ST depression induced by exercise relative to rest  \n",
        "\n",
        "- **slope** (Categorical: slope of the peak exercise ST segment):  \n",
        "  - Upsloping  \n",
        "  - Flat  \n",
        "  - Downsloping  \n",
        "\n",
        "- **ca** (Numeric/Ordinal) → Number of major vessels (0–3) colored by fluoroscopy  \n",
        "- **thal** (Categorical):  \n",
        "  - Normal  \n",
        "  - Fixed defect  \n",
        "  - Reversible defect  \n",
        "\n",
        "---\n",
        "\n",
        "### Initial Notes about the Dataset\n",
        "- **Number of records:** ~303 rows  \n",
        "- Contains some missing values (especially in `ca` and `thal`)  \n",
        "- Mix of **Numeric** and **Categorical** variables  \n",
        "- **Final Goal:** Predict the value of `num` (binary or multiclass)  \n",
        "\n",
        "---les  \n",
        "- **Final Goal:** Predict the value of `target`  \n",
        "\n",
        "---\n",
        "+ Categorical  \n",
        "- **الهدف النهائي:** Predict `target`  \n",
        "\n",
        "---\n"
      ]
    },
    {
      "cell_type": "markdown",
      "id": "c1db4c36-382d-4fed-b619-fb8a8bef8aa1",
      "metadata": {
        "id": "c1db4c36-382d-4fed-b619-fb8a8bef8aa1"
      },
      "source": [
        "## 2: Data Preparation"
      ]
    },
    {
      "cell_type": "markdown",
      "id": "a746fbea-c6a5-42e6-8e12-6b25546aea13",
      "metadata": {
        "id": "a746fbea-c6a5-42e6-8e12-6b25546aea13"
      },
      "source": [
        "### ===============================\n",
        "### 2.1 Import Libraries\n",
        "### ==============================="
      ]
    },
    {
      "cell_type": "code",
      "execution_count": 1,
      "id": "809d13e0-43fe-4216-992f-6765f644bbac",
      "metadata": {
        "id": "809d13e0-43fe-4216-992f-6765f644bbac"
      },
      "outputs": [],
      "source": [
        "import pandas as pd\n",
        "import matplotlib.pyplot as plt\n",
        "import seaborn as sns\n",
        "\n",
        "from sklearn.impute import SimpleImputer\n",
        "from sklearn.preprocessing import StandardScaler\n",
        "from sklearn.model_selection import train_test_split\n",
        "from sklearn.linear_model import LogisticRegression\n",
        "from sklearn.svm import SVC\n",
        "from sklearn.tree import DecisionTreeClassifier\n",
        "from sklearn.ensemble import RandomForestClassifier\n",
        "from sklearn.metrics import accuracy_score, classification_report, confusion_matrix\n"
      ]
    },
    {
      "cell_type": "markdown",
      "id": "eb614e0b-c325-47bf-9c23-736f8e4d85ee",
      "metadata": {
        "id": "eb614e0b-c325-47bf-9c23-736f8e4d85ee"
      },
      "source": [
        "#### ===============================\n",
        "#### 2.2 Load Data\n",
        "#### ==============================="
      ]
    },
    {
      "cell_type": "code",
      "execution_count": 2,
      "id": "f3b072de-c3cb-4deb-8ea2-0082d60f8475",
      "metadata": {
        "id": "f3b072de-c3cb-4deb-8ea2-0082d60f8475"
      },
      "outputs": [],
      "source": [
        "df = pd.read_csv(\"C:/Users/dwdwa/Downloads/heart_disease_uci.csv\")"
      ]
    },
    {
      "cell_type": "code",
      "execution_count": 3,
      "id": "37f7cf81-d430-47b4-9ed8-141e01511833",
      "metadata": {
        "colab": {
          "base_uri": "https://localhost:8080/"
        },
        "id": "37f7cf81-d430-47b4-9ed8-141e01511833",
        "outputId": "24363b86-7bf7-45fa-fcff-506d498eb863"
      },
      "outputs": [
        {
          "name": "stdout",
          "output_type": "stream",
          "text": [
            "   id  age     sex    dataset               cp  trestbps   chol    fbs  \\\n",
            "0   1   63    Male  Cleveland   typical angina     145.0  233.0   True   \n",
            "1   2   67    Male  Cleveland     asymptomatic     160.0  286.0  False   \n",
            "2   3   67    Male  Cleveland     asymptomatic     120.0  229.0  False   \n",
            "3   4   37    Male  Cleveland      non-anginal     130.0  250.0  False   \n",
            "4   5   41  Female  Cleveland  atypical angina     130.0  204.0  False   \n",
            "\n",
            "          restecg  thalch  exang  oldpeak        slope   ca  \\\n",
            "0  lv hypertrophy   150.0  False      2.3  downsloping  0.0   \n",
            "1  lv hypertrophy   108.0   True      1.5         flat  3.0   \n",
            "2  lv hypertrophy   129.0   True      2.6         flat  2.0   \n",
            "3          normal   187.0  False      3.5  downsloping  0.0   \n",
            "4  lv hypertrophy   172.0  False      1.4    upsloping  0.0   \n",
            "\n",
            "                thal  num  \n",
            "0       fixed defect    0  \n",
            "1             normal    2  \n",
            "2  reversable defect    1  \n",
            "3             normal    0  \n",
            "4             normal    0  \n"
          ]
        }
      ],
      "source": [
        "\n",
        "print(df.head())"
      ]
    },
    {
      "cell_type": "code",
      "execution_count": 4,
      "id": "1c4e6b31-74ed-4443-b15c-5416882076fa",
      "metadata": {
        "colab": {
          "base_uri": "https://localhost:8080/"
        },
        "id": "1c4e6b31-74ed-4443-b15c-5416882076fa",
        "outputId": "2ba0c277-a2a7-4855-a723-fbf16e3e87da"
      },
      "outputs": [
        {
          "data": {
            "text/plain": [
              "(920, 16)"
            ]
          },
          "execution_count": 4,
          "metadata": {},
          "output_type": "execute_result"
        }
      ],
      "source": [
        "df.shape"
      ]
    },
    {
      "cell_type": "code",
      "execution_count": 5,
      "id": "26025960-4973-4e0c-9b08-7a5344a9a449",
      "metadata": {
        "colab": {
          "base_uri": "https://localhost:8080/"
        },
        "id": "26025960-4973-4e0c-9b08-7a5344a9a449",
        "outputId": "3bd7f0e4-793f-4ca4-9d7a-17a3da413a13"
      },
      "outputs": [
        {
          "name": "stdout",
          "output_type": "stream",
          "text": [
            "<class 'pandas.core.frame.DataFrame'>\n",
            "RangeIndex: 920 entries, 0 to 919\n",
            "Data columns (total 16 columns):\n",
            " #   Column    Non-Null Count  Dtype  \n",
            "---  ------    --------------  -----  \n",
            " 0   id        920 non-null    int64  \n",
            " 1   age       920 non-null    int64  \n",
            " 2   sex       920 non-null    object \n",
            " 3   dataset   920 non-null    object \n",
            " 4   cp        920 non-null    object \n",
            " 5   trestbps  861 non-null    float64\n",
            " 6   chol      890 non-null    float64\n",
            " 7   fbs       830 non-null    object \n",
            " 8   restecg   918 non-null    object \n",
            " 9   thalch    865 non-null    float64\n",
            " 10  exang     865 non-null    object \n",
            " 11  oldpeak   858 non-null    float64\n",
            " 12  slope     611 non-null    object \n",
            " 13  ca        309 non-null    float64\n",
            " 14  thal      434 non-null    object \n",
            " 15  num       920 non-null    int64  \n",
            "dtypes: float64(5), int64(3), object(8)\n",
            "memory usage: 115.1+ KB\n",
            "None\n"
          ]
        }
      ],
      "source": [
        "print(df.info())"
      ]
    },
    {
      "cell_type": "code",
      "execution_count": 6,
      "id": "c8b2857f-1035-4376-811f-f956ba35e728",
      "metadata": {
        "colab": {
          "base_uri": "https://localhost:8080/"
        },
        "id": "c8b2857f-1035-4376-811f-f956ba35e728",
        "outputId": "be41b6bc-dc0e-4ebd-cedd-9f75b85592c2"
      },
      "outputs": [
        {
          "name": "stdout",
          "output_type": "stream",
          "text": [
            "               id         age    trestbps        chol      thalch     oldpeak  \\\n",
            "count  920.000000  920.000000  861.000000  890.000000  865.000000  858.000000   \n",
            "mean   460.500000   53.510870  132.132404  199.130337  137.545665    0.878788   \n",
            "std    265.725422    9.424685   19.066070  110.780810   25.926276    1.091226   \n",
            "min      1.000000   28.000000    0.000000    0.000000   60.000000   -2.600000   \n",
            "25%    230.750000   47.000000  120.000000  175.000000  120.000000    0.000000   \n",
            "50%    460.500000   54.000000  130.000000  223.000000  140.000000    0.500000   \n",
            "75%    690.250000   60.000000  140.000000  268.000000  157.000000    1.500000   \n",
            "max    920.000000   77.000000  200.000000  603.000000  202.000000    6.200000   \n",
            "\n",
            "               ca         num  \n",
            "count  309.000000  920.000000  \n",
            "mean     0.676375    0.995652  \n",
            "std      0.935653    1.142693  \n",
            "min      0.000000    0.000000  \n",
            "25%      0.000000    0.000000  \n",
            "50%      0.000000    1.000000  \n",
            "75%      1.000000    2.000000  \n",
            "max      3.000000    4.000000  \n"
          ]
        }
      ],
      "source": [
        "print(df.describe())"
      ]
    },
    {
      "cell_type": "code",
      "execution_count": 7,
      "id": "Ety9le8F_N5s",
      "metadata": {
        "id": "Ety9le8F_N5s"
      },
      "outputs": [],
      "source": [
        "# Drop useless columns\n",
        "df.drop(['id', 'dataset'], axis=1, inplace=True)\n",
        "\n",
        "# Convert target (num: 0 = No Disease, 1–4 = Disease)\n",
        "df['target'] = df['num'].apply(lambda x: 1 if x > 0 else 0)\n",
        "df.drop('num', axis=1, inplace=True)"
      ]
    },
    {
      "cell_type": "code",
      "execution_count": 8,
      "id": "bd3a6386-b919-4a44-bd69-62b2c94d163a",
      "metadata": {
        "colab": {
          "base_uri": "https://localhost:8080/"
        },
        "id": "bd3a6386-b919-4a44-bd69-62b2c94d163a",
        "outputId": "1452b8b0-6b16-4c65-b05d-32b6dd55dcbb"
      },
      "outputs": [
        {
          "name": "stdout",
          "output_type": "stream",
          "text": [
            "Missing values:\n",
            " age           0\n",
            "sex           0\n",
            "cp            0\n",
            "trestbps     59\n",
            "chol         30\n",
            "fbs          90\n",
            "restecg       2\n",
            "thalch       55\n",
            "exang        55\n",
            "oldpeak      62\n",
            "slope       309\n",
            "ca          611\n",
            "thal        486\n",
            "target        0\n",
            "dtype: int64\n"
          ]
        }
      ],
      "source": [
        "print(\"Missing values:\\n\", df.isnull().sum())"
      ]
    },
    {
      "cell_type": "markdown",
      "id": "ae9dace5-2a97-4626-9e3d-1d13d7fc20d9",
      "metadata": {
        "id": "ae9dace5-2a97-4626-9e3d-1d13d7fc20d9"
      },
      "source": [
        "#### ===============================\n",
        "#### 3. Handle Missing Values\n",
        "#### ===============================\n",
        "#### Separate numeric and categorical columns BEFORE encoding"
      ]
    },
    {
      "cell_type": "code",
      "execution_count": 9,
      "id": "d849a04c-fc2e-4504-a815-c0070c410188",
      "metadata": {
        "colab": {
          "base_uri": "https://localhost:8080/"
        },
        "id": "d849a04c-fc2e-4504-a815-c0070c410188",
        "outputId": "c0c88622-6a1f-48aa-fdde-0205226ebaf1"
      },
      "outputs": [
        {
          "name": "stdout",
          "output_type": "stream",
          "text": [
            "Numeric columns: ['age', 'trestbps', 'chol', 'thalch', 'oldpeak', 'ca', 'target']\n",
            "Categorical columns: ['sex', 'cp', 'fbs', 'restecg', 'exang', 'slope', 'thal']\n"
          ]
        }
      ],
      "source": [
        "num_cols = df.select_dtypes(include=['int64','float64']).columns\n",
        "cat_cols = df.select_dtypes(include=['object','category']).columns\n",
        "\n",
        "print(\"Numeric columns:\", num_cols.tolist())\n",
        "print(\"Categorical columns:\", cat_cols.tolist())"
      ]
    },
    {
      "cell_type": "markdown",
      "id": "898b43e8-aed6-4d80-ab35-e7275800e53d",
      "metadata": {
        "id": "898b43e8-aed6-4d80-ab35-e7275800e53d"
      },
      "source": [
        "##### Impute numeric"
      ]
    },
    {
      "cell_type": "code",
      "execution_count": 10,
      "id": "2ffeebe8-6b4a-4de1-acad-62cad7eb1ed6",
      "metadata": {
        "id": "2ffeebe8-6b4a-4de1-acad-62cad7eb1ed6"
      },
      "outputs": [],
      "source": [
        "imputer_num = SimpleImputer(strategy='mean')\n",
        "\n",
        "df[num_cols] = imputer_num.fit_transform(df[num_cols])"
      ]
    },
    {
      "cell_type": "markdown",
      "id": "09d21a7a-be99-4ba5-b6f6-b65fab95c586",
      "metadata": {
        "id": "09d21a7a-be99-4ba5-b6f6-b65fab95c586"
      },
      "source": [
        "##### Impute categorical"
      ]
    },
    {
      "cell_type": "code",
      "execution_count": 11,
      "id": "be6a6a00-cc01-49b9-b5d6-f49d39267f3c",
      "metadata": {
        "id": "be6a6a00-cc01-49b9-b5d6-f49d39267f3c"
      },
      "outputs": [],
      "source": [
        "imputer_cat = SimpleImputer(strategy='most_frequent')\n",
        "df[cat_cols] = imputer_cat.fit_transform(df[cat_cols])"
      ]
    },
    {
      "cell_type": "code",
      "execution_count": 12,
      "id": "daab9ba8-7e9b-439f-bf48-4370d2d31e61",
      "metadata": {
        "colab": {
          "base_uri": "https://localhost:8080/"
        },
        "id": "daab9ba8-7e9b-439f-bf48-4370d2d31e61",
        "outputId": "b8df64a8-2a22-4c1a-ecba-a68f88125320"
      },
      "outputs": [
        {
          "name": "stdout",
          "output_type": "stream",
          "text": [
            "Missing values:\n",
            " age         0\n",
            "sex         0\n",
            "cp          0\n",
            "trestbps    0\n",
            "chol        0\n",
            "fbs         0\n",
            "restecg     0\n",
            "thalch      0\n",
            "exang       0\n",
            "oldpeak     0\n",
            "slope       0\n",
            "ca          0\n",
            "thal        0\n",
            "target      0\n",
            "dtype: int64\n"
          ]
        }
      ],
      "source": [
        "print(\"Missing values:\\n\", df.isnull().sum())"
      ]
    },
    {
      "cell_type": "code",
      "execution_count": 13,
      "id": "RH-OvdD66FbM",
      "metadata": {
        "colab": {
          "base_uri": "https://localhost:8080/",
          "height": 527
        },
        "id": "RH-OvdD66FbM",
        "outputId": "f098222a-59c0-467e-d933-0a7d11af975f"
      },
      "outputs": [
        {
          "data": {
            "text/html": [
              "<div>\n",
              "<style scoped>\n",
              "    .dataframe tbody tr th:only-of-type {\n",
              "        vertical-align: middle;\n",
              "    }\n",
              "\n",
              "    .dataframe tbody tr th {\n",
              "        vertical-align: top;\n",
              "    }\n",
              "\n",
              "    .dataframe thead th {\n",
              "        text-align: right;\n",
              "    }\n",
              "</style>\n",
              "<table border=\"1\" class=\"dataframe\">\n",
              "  <thead>\n",
              "    <tr style=\"text-align: right;\">\n",
              "      <th></th>\n",
              "      <th>age</th>\n",
              "      <th>sex</th>\n",
              "      <th>cp</th>\n",
              "      <th>trestbps</th>\n",
              "      <th>chol</th>\n",
              "      <th>fbs</th>\n",
              "      <th>restecg</th>\n",
              "      <th>thalch</th>\n",
              "      <th>exang</th>\n",
              "      <th>oldpeak</th>\n",
              "      <th>slope</th>\n",
              "      <th>ca</th>\n",
              "      <th>thal</th>\n",
              "      <th>target</th>\n",
              "    </tr>\n",
              "  </thead>\n",
              "  <tbody>\n",
              "    <tr>\n",
              "      <th>0</th>\n",
              "      <td>63.0</td>\n",
              "      <td>Male</td>\n",
              "      <td>typical angina</td>\n",
              "      <td>145.000000</td>\n",
              "      <td>233.0</td>\n",
              "      <td>True</td>\n",
              "      <td>lv hypertrophy</td>\n",
              "      <td>150.000000</td>\n",
              "      <td>False</td>\n",
              "      <td>2.300000</td>\n",
              "      <td>downsloping</td>\n",
              "      <td>0.000000</td>\n",
              "      <td>fixed defect</td>\n",
              "      <td>0.0</td>\n",
              "    </tr>\n",
              "    <tr>\n",
              "      <th>1</th>\n",
              "      <td>67.0</td>\n",
              "      <td>Male</td>\n",
              "      <td>asymptomatic</td>\n",
              "      <td>160.000000</td>\n",
              "      <td>286.0</td>\n",
              "      <td>False</td>\n",
              "      <td>lv hypertrophy</td>\n",
              "      <td>108.000000</td>\n",
              "      <td>True</td>\n",
              "      <td>1.500000</td>\n",
              "      <td>flat</td>\n",
              "      <td>3.000000</td>\n",
              "      <td>normal</td>\n",
              "      <td>1.0</td>\n",
              "    </tr>\n",
              "    <tr>\n",
              "      <th>2</th>\n",
              "      <td>67.0</td>\n",
              "      <td>Male</td>\n",
              "      <td>asymptomatic</td>\n",
              "      <td>120.000000</td>\n",
              "      <td>229.0</td>\n",
              "      <td>False</td>\n",
              "      <td>lv hypertrophy</td>\n",
              "      <td>129.000000</td>\n",
              "      <td>True</td>\n",
              "      <td>2.600000</td>\n",
              "      <td>flat</td>\n",
              "      <td>2.000000</td>\n",
              "      <td>reversable defect</td>\n",
              "      <td>1.0</td>\n",
              "    </tr>\n",
              "    <tr>\n",
              "      <th>3</th>\n",
              "      <td>37.0</td>\n",
              "      <td>Male</td>\n",
              "      <td>non-anginal</td>\n",
              "      <td>130.000000</td>\n",
              "      <td>250.0</td>\n",
              "      <td>False</td>\n",
              "      <td>normal</td>\n",
              "      <td>187.000000</td>\n",
              "      <td>False</td>\n",
              "      <td>3.500000</td>\n",
              "      <td>downsloping</td>\n",
              "      <td>0.000000</td>\n",
              "      <td>normal</td>\n",
              "      <td>0.0</td>\n",
              "    </tr>\n",
              "    <tr>\n",
              "      <th>4</th>\n",
              "      <td>41.0</td>\n",
              "      <td>Female</td>\n",
              "      <td>atypical angina</td>\n",
              "      <td>130.000000</td>\n",
              "      <td>204.0</td>\n",
              "      <td>False</td>\n",
              "      <td>lv hypertrophy</td>\n",
              "      <td>172.000000</td>\n",
              "      <td>False</td>\n",
              "      <td>1.400000</td>\n",
              "      <td>upsloping</td>\n",
              "      <td>0.000000</td>\n",
              "      <td>normal</td>\n",
              "      <td>0.0</td>\n",
              "    </tr>\n",
              "    <tr>\n",
              "      <th>...</th>\n",
              "      <td>...</td>\n",
              "      <td>...</td>\n",
              "      <td>...</td>\n",
              "      <td>...</td>\n",
              "      <td>...</td>\n",
              "      <td>...</td>\n",
              "      <td>...</td>\n",
              "      <td>...</td>\n",
              "      <td>...</td>\n",
              "      <td>...</td>\n",
              "      <td>...</td>\n",
              "      <td>...</td>\n",
              "      <td>...</td>\n",
              "      <td>...</td>\n",
              "    </tr>\n",
              "    <tr>\n",
              "      <th>915</th>\n",
              "      <td>54.0</td>\n",
              "      <td>Female</td>\n",
              "      <td>asymptomatic</td>\n",
              "      <td>127.000000</td>\n",
              "      <td>333.0</td>\n",
              "      <td>True</td>\n",
              "      <td>st-t abnormality</td>\n",
              "      <td>154.000000</td>\n",
              "      <td>False</td>\n",
              "      <td>0.000000</td>\n",
              "      <td>flat</td>\n",
              "      <td>0.676375</td>\n",
              "      <td>normal</td>\n",
              "      <td>1.0</td>\n",
              "    </tr>\n",
              "    <tr>\n",
              "      <th>916</th>\n",
              "      <td>62.0</td>\n",
              "      <td>Male</td>\n",
              "      <td>typical angina</td>\n",
              "      <td>132.132404</td>\n",
              "      <td>139.0</td>\n",
              "      <td>False</td>\n",
              "      <td>st-t abnormality</td>\n",
              "      <td>137.545665</td>\n",
              "      <td>False</td>\n",
              "      <td>0.878788</td>\n",
              "      <td>flat</td>\n",
              "      <td>0.676375</td>\n",
              "      <td>normal</td>\n",
              "      <td>0.0</td>\n",
              "    </tr>\n",
              "    <tr>\n",
              "      <th>917</th>\n",
              "      <td>55.0</td>\n",
              "      <td>Male</td>\n",
              "      <td>asymptomatic</td>\n",
              "      <td>122.000000</td>\n",
              "      <td>223.0</td>\n",
              "      <td>True</td>\n",
              "      <td>st-t abnormality</td>\n",
              "      <td>100.000000</td>\n",
              "      <td>False</td>\n",
              "      <td>0.000000</td>\n",
              "      <td>flat</td>\n",
              "      <td>0.676375</td>\n",
              "      <td>fixed defect</td>\n",
              "      <td>1.0</td>\n",
              "    </tr>\n",
              "    <tr>\n",
              "      <th>918</th>\n",
              "      <td>58.0</td>\n",
              "      <td>Male</td>\n",
              "      <td>asymptomatic</td>\n",
              "      <td>132.132404</td>\n",
              "      <td>385.0</td>\n",
              "      <td>True</td>\n",
              "      <td>lv hypertrophy</td>\n",
              "      <td>137.545665</td>\n",
              "      <td>False</td>\n",
              "      <td>0.878788</td>\n",
              "      <td>flat</td>\n",
              "      <td>0.676375</td>\n",
              "      <td>normal</td>\n",
              "      <td>0.0</td>\n",
              "    </tr>\n",
              "    <tr>\n",
              "      <th>919</th>\n",
              "      <td>62.0</td>\n",
              "      <td>Male</td>\n",
              "      <td>atypical angina</td>\n",
              "      <td>120.000000</td>\n",
              "      <td>254.0</td>\n",
              "      <td>False</td>\n",
              "      <td>lv hypertrophy</td>\n",
              "      <td>93.000000</td>\n",
              "      <td>True</td>\n",
              "      <td>0.000000</td>\n",
              "      <td>flat</td>\n",
              "      <td>0.676375</td>\n",
              "      <td>normal</td>\n",
              "      <td>1.0</td>\n",
              "    </tr>\n",
              "  </tbody>\n",
              "</table>\n",
              "<p>920 rows × 14 columns</p>\n",
              "</div>"
            ],
            "text/plain": [
              "      age     sex               cp    trestbps   chol    fbs  \\\n",
              "0    63.0    Male   typical angina  145.000000  233.0   True   \n",
              "1    67.0    Male     asymptomatic  160.000000  286.0  False   \n",
              "2    67.0    Male     asymptomatic  120.000000  229.0  False   \n",
              "3    37.0    Male      non-anginal  130.000000  250.0  False   \n",
              "4    41.0  Female  atypical angina  130.000000  204.0  False   \n",
              "..    ...     ...              ...         ...    ...    ...   \n",
              "915  54.0  Female     asymptomatic  127.000000  333.0   True   \n",
              "916  62.0    Male   typical angina  132.132404  139.0  False   \n",
              "917  55.0    Male     asymptomatic  122.000000  223.0   True   \n",
              "918  58.0    Male     asymptomatic  132.132404  385.0   True   \n",
              "919  62.0    Male  atypical angina  120.000000  254.0  False   \n",
              "\n",
              "              restecg      thalch  exang   oldpeak        slope        ca  \\\n",
              "0      lv hypertrophy  150.000000  False  2.300000  downsloping  0.000000   \n",
              "1      lv hypertrophy  108.000000   True  1.500000         flat  3.000000   \n",
              "2      lv hypertrophy  129.000000   True  2.600000         flat  2.000000   \n",
              "3              normal  187.000000  False  3.500000  downsloping  0.000000   \n",
              "4      lv hypertrophy  172.000000  False  1.400000    upsloping  0.000000   \n",
              "..                ...         ...    ...       ...          ...       ...   \n",
              "915  st-t abnormality  154.000000  False  0.000000         flat  0.676375   \n",
              "916  st-t abnormality  137.545665  False  0.878788         flat  0.676375   \n",
              "917  st-t abnormality  100.000000  False  0.000000         flat  0.676375   \n",
              "918    lv hypertrophy  137.545665  False  0.878788         flat  0.676375   \n",
              "919    lv hypertrophy   93.000000   True  0.000000         flat  0.676375   \n",
              "\n",
              "                  thal  target  \n",
              "0         fixed defect     0.0  \n",
              "1               normal     1.0  \n",
              "2    reversable defect     1.0  \n",
              "3               normal     0.0  \n",
              "4               normal     0.0  \n",
              "..                 ...     ...  \n",
              "915             normal     1.0  \n",
              "916             normal     0.0  \n",
              "917       fixed defect     1.0  \n",
              "918             normal     0.0  \n",
              "919             normal     1.0  \n",
              "\n",
              "[920 rows x 14 columns]"
            ]
          },
          "execution_count": 13,
          "metadata": {},
          "output_type": "execute_result"
        }
      ],
      "source": [
        "df"
      ]
    },
    {
      "cell_type": "markdown",
      "id": "41f5bfc5-42a0-4cd3-ad88-df0141a43ff5",
      "metadata": {
        "id": "41f5bfc5-42a0-4cd3-ad88-df0141a43ff5"
      },
      "source": [
        "#### ===============================\n",
        "#### 4. Encode Categorical Columns\n",
        "#### ==============================="
      ]
    },
    {
      "cell_type": "code",
      "execution_count": 14,
      "id": "2b6daf54-207f-43b2-b271-59380f431ab8",
      "metadata": {
        "colab": {
          "base_uri": "https://localhost:8080/"
        },
        "id": "2b6daf54-207f-43b2-b271-59380f431ab8",
        "outputId": "a1e6a7c2-8dca-46f1-9b2c-dddb7e2c5e41"
      },
      "outputs": [
        {
          "name": "stdout",
          "output_type": "stream",
          "text": [
            "    age  trestbps   chol  thalch  oldpeak   ca  target  sex_Male  \\\n",
            "0  63.0     145.0  233.0   150.0      2.3  0.0     0.0      True   \n",
            "1  67.0     160.0  286.0   108.0      1.5  3.0     1.0      True   \n",
            "2  67.0     120.0  229.0   129.0      2.6  2.0     1.0      True   \n",
            "3  37.0     130.0  250.0   187.0      3.5  0.0     0.0      True   \n",
            "4  41.0     130.0  204.0   172.0      1.4  0.0     0.0     False   \n",
            "\n",
            "   cp_atypical angina  cp_non-anginal  cp_typical angina  fbs_True  \\\n",
            "0               False           False               True      True   \n",
            "1               False           False              False     False   \n",
            "2               False           False              False     False   \n",
            "3               False            True              False     False   \n",
            "4                True           False              False     False   \n",
            "\n",
            "   restecg_normal  restecg_st-t abnormality  exang_True  slope_flat  \\\n",
            "0           False                     False       False       False   \n",
            "1           False                     False        True        True   \n",
            "2           False                     False        True        True   \n",
            "3            True                     False       False       False   \n",
            "4           False                     False       False       False   \n",
            "\n",
            "   slope_upsloping  thal_normal  thal_reversable defect  \n",
            "0            False        False                   False  \n",
            "1            False         True                   False  \n",
            "2            False        False                    True  \n",
            "3            False         True                   False  \n",
            "4             True         True                   False  \n"
          ]
        }
      ],
      "source": [
        "df_encoded = pd.get_dummies(df, columns=cat_cols, drop_first=True)\n",
        "\n",
        "print(df_encoded.head())\n"
      ]
    },
    {
      "cell_type": "markdown",
      "id": "98bd2a91-7be8-4161-83b7-91cdccdfcc2e",
      "metadata": {
        "id": "98bd2a91-7be8-4161-83b7-91cdccdfcc2e"
      },
      "source": [
        "#### ===============================\n",
        "#### 5. Data Visualization Example\n",
        "#### ==============================="
      ]
    },
    {
      "cell_type": "code",
      "execution_count": 15,
      "id": "0cab9599-eb88-4748-b7a4-26dfaad39885",
      "metadata": {
        "colab": {
          "base_uri": "https://localhost:8080/",
          "height": 410
        },
        "id": "0cab9599-eb88-4748-b7a4-26dfaad39885",
        "outputId": "c3ca3290-6e33-4b88-a932-9c3dfac89dc9"
      },
      "outputs": [
        {
          "data": {
            "image/png": "[encoded data removed]",
            "text/plain": [
              "<Figure size 600x400 with 1 Axes>"
            ]
          },
          "metadata": {},
          "output_type": "display_data"
        }
      ],
      "source": [
        "plt.figure(figsize=(6,4))\n",
        "sns.boxplot(x=df['chol'])\n",
        "plt.title(\"Cholesterol Distribution\")\n",
        "plt.show()\n"
      ]
    },
    {
      "cell_type": "markdown",
      "id": "35f9f90d-70de-4c50-8579-721639819bf4",
      "metadata": {
        "id": "35f9f90d-70de-4c50-8579-721639819bf4"
      },
      "source": [
        "##### ===============================\n",
        "##### 6. Feature Scaling\n",
        "##### ==============================="
      ]
    },
    {
      "cell_type": "code",
      "execution_count": 16,
      "id": "e5e344d1-290d-48a0-97f1-d567105dffd2",
      "metadata": {
        "id": "e5e344d1-290d-48a0-97f1-d567105dffd2"
      },
      "outputs": [],
      "source": [
        "num_features = ['age', 'trestbps', 'chol', 'thalch', 'oldpeak']\n",
        "scaler = StandardScaler()\n",
        "df_encoded[num_features] = scaler.fit_transform(df_encoded[num_features])"
      ]
    },
    {
      "cell_type": "code",
      "execution_count": 17,
      "id": "dfZVM8im9xNM",
      "metadata": {
        "colab": {
          "base_uri": "https://localhost:8080/",
          "height": 527
        },
        "id": "dfZVM8im9xNM",
        "outputId": "69612cad-97a1-4698-ff8c-5da8368a4e46"
      },
      "outputs": [
        {
          "data": {
            "text/html": [
              "<div>\n",
              "<style scoped>\n",
              "    .dataframe tbody tr th:only-of-type {\n",
              "        vertical-align: middle;\n",
              "    }\n",
              "\n",
              "    .dataframe tbody tr th {\n",
              "        vertical-align: top;\n",
              "    }\n",
              "\n",
              "    .dataframe thead th {\n",
              "        text-align: right;\n",
              "    }\n",
              "</style>\n",
              "<table border=\"1\" class=\"dataframe\">\n",
              "  <thead>\n",
              "    <tr style=\"text-align: right;\">\n",
              "      <th></th>\n",
              "      <th>age</th>\n",
              "      <th>sex</th>\n",
              "      <th>cp</th>\n",
              "      <th>trestbps</th>\n",
              "      <th>chol</th>\n",
              "      <th>fbs</th>\n",
              "      <th>restecg</th>\n",
              "      <th>thalch</th>\n",
              "      <th>exang</th>\n",
              "      <th>oldpeak</th>\n",
              "      <th>slope</th>\n",
              "      <th>ca</th>\n",
              "      <th>thal</th>\n",
              "      <th>target</th>\n",
              "    </tr>\n",
              "  </thead>\n",
              "  <tbody>\n",
              "    <tr>\n",
              "      <th>0</th>\n",
              "      <td>63.0</td>\n",
              "      <td>Male</td>\n",
              "      <td>typical angina</td>\n",
              "      <td>145.000000</td>\n",
              "      <td>233.0</td>\n",
              "      <td>True</td>\n",
              "      <td>lv hypertrophy</td>\n",
              "      <td>150.000000</td>\n",
              "      <td>False</td>\n",
              "      <td>2.300000</td>\n",
              "      <td>downsloping</td>\n",
              "      <td>0.000000</td>\n",
              "      <td>fixed defect</td>\n",
              "      <td>0.0</td>\n",
              "    </tr>\n",
              "    <tr>\n",
              "      <th>1</th>\n",
              "      <td>67.0</td>\n",
              "      <td>Male</td>\n",
              "      <td>asymptomatic</td>\n",
              "      <td>160.000000</td>\n",
              "      <td>286.0</td>\n",
              "      <td>False</td>\n",
              "      <td>lv hypertrophy</td>\n",
              "      <td>108.000000</td>\n",
              "      <td>True</td>\n",
              "      <td>1.500000</td>\n",
              "      <td>flat</td>\n",
              "      <td>3.000000</td>\n",
              "      <td>normal</td>\n",
              "      <td>1.0</td>\n",
              "    </tr>\n",
              "    <tr>\n",
              "      <th>2</th>\n",
              "      <td>67.0</td>\n",
              "      <td>Male</td>\n",
              "      <td>asymptomatic</td>\n",
              "      <td>120.000000</td>\n",
              "      <td>229.0</td>\n",
              "      <td>False</td>\n",
              "      <td>lv hypertrophy</td>\n",
              "      <td>129.000000</td>\n",
              "      <td>True</td>\n",
              "      <td>2.600000</td>\n",
              "      <td>flat</td>\n",
              "      <td>2.000000</td>\n",
              "      <td>reversable defect</td>\n",
              "      <td>1.0</td>\n",
              "    </tr>\n",
              "    <tr>\n",
              "      <th>3</th>\n",
              "      <td>37.0</td>\n",
              "      <td>Male</td>\n",
              "      <td>non-anginal</td>\n",
              "      <td>130.000000</td>\n",
              "      <td>250.0</td>\n",
              "      <td>False</td>\n",
              "      <td>normal</td>\n",
              "      <td>187.000000</td>\n",
              "      <td>False</td>\n",
              "      <td>3.500000</td>\n",
              "      <td>downsloping</td>\n",
              "      <td>0.000000</td>\n",
              "      <td>normal</td>\n",
              "      <td>0.0</td>\n",
              "    </tr>\n",
              "    <tr>\n",
              "      <th>4</th>\n",
              "      <td>41.0</td>\n",
              "      <td>Female</td>\n",
              "      <td>atypical angina</td>\n",
              "      <td>130.000000</td>\n",
              "      <td>204.0</td>\n",
              "      <td>False</td>\n",
              "      <td>lv hypertrophy</td>\n",
              "      <td>172.000000</td>\n",
              "      <td>False</td>\n",
              "      <td>1.400000</td>\n",
              "      <td>upsloping</td>\n",
              "      <td>0.000000</td>\n",
              "      <td>normal</td>\n",
              "      <td>0.0</td>\n",
              "    </tr>\n",
              "    <tr>\n",
              "      <th>...</th>\n",
              "      <td>...</td>\n",
              "      <td>...</td>\n",
              "      <td>...</td>\n",
              "      <td>...</td>\n",
              "      <td>...</td>\n",
              "      <td>...</td>\n",
              "      <td>...</td>\n",
              "      <td>...</td>\n",
              "      <td>...</td>\n",
              "      <td>...</td>\n",
              "      <td>...</td>\n",
              "      <td>...</td>\n",
              "      <td>...</td>\n",
              "      <td>...</td>\n",
              "    </tr>\n",
              "    <tr>\n",
              "      <th>915</th>\n",
              "      <td>54.0</td>\n",
              "      <td>Female</td>\n",
              "      <td>asymptomatic</td>\n",
              "      <td>127.000000</td>\n",
              "      <td>333.0</td>\n",
              "      <td>True</td>\n",
              "      <td>st-t abnormality</td>\n",
              "      <td>154.000000</td>\n",
              "      <td>False</td>\n",
              "      <td>0.000000</td>\n",
              "      <td>flat</td>\n",
              "      <td>0.676375</td>\n",
              "      <td>normal</td>\n",
              "      <td>1.0</td>\n",
              "    </tr>\n",
              "    <tr>\n",
              "      <th>916</th>\n",
              "      <td>62.0</td>\n",
              "      <td>Male</td>\n",
              "      <td>typical angina</td>\n",
              "      <td>132.132404</td>\n",
              "      <td>139.0</td>\n",
              "      <td>False</td>\n",
              "      <td>st-t abnormality</td>\n",
              "      <td>137.545665</td>\n",
              "      <td>False</td>\n",
              "      <td>0.878788</td>\n",
              "      <td>flat</td>\n",
              "      <td>0.676375</td>\n",
              "      <td>normal</td>\n",
              "      <td>0.0</td>\n",
              "    </tr>\n",
              "    <tr>\n",
              "      <th>917</th>\n",
              "      <td>55.0</td>\n",
              "      <td>Male</td>\n",
              "      <td>asymptomatic</td>\n",
              "      <td>122.000000</td>\n",
              "      <td>223.0</td>\n",
              "      <td>True</td>\n",
              "      <td>st-t abnormality</td>\n",
              "      <td>100.000000</td>\n",
              "      <td>False</td>\n",
              "      <td>0.000000</td>\n",
              "      <td>flat</td>\n",
              "      <td>0.676375</td>\n",
              "      <td>fixed defect</td>\n",
              "      <td>1.0</td>\n",
              "    </tr>\n",
              "    <tr>\n",
              "      <th>918</th>\n",
              "      <td>58.0</td>\n",
              "      <td>Male</td>\n",
              "      <td>asymptomatic</td>\n",
              "      <td>132.132404</td>\n",
              "      <td>385.0</td>\n",
              "      <td>True</td>\n",
              "      <td>lv hypertrophy</td>\n",
              "      <td>137.545665</td>\n",
              "      <td>False</td>\n",
              "      <td>0.878788</td>\n",
              "      <td>flat</td>\n",
              "      <td>0.676375</td>\n",
              "      <td>normal</td>\n",
              "      <td>0.0</td>\n",
              "    </tr>\n",
              "    <tr>\n",
              "      <th>919</th>\n",
              "      <td>62.0</td>\n",
              "      <td>Male</td>\n",
              "      <td>atypical angina</td>\n",
              "      <td>120.000000</td>\n",
              "      <td>254.0</td>\n",
              "      <td>False</td>\n",
              "      <td>lv hypertrophy</td>\n",
              "      <td>93.000000</td>\n",
              "      <td>True</td>\n",
              "      <td>0.000000</td>\n",
              "      <td>flat</td>\n",
              "      <td>0.676375</td>\n",
              "      <td>normal</td>\n",
              "      <td>1.0</td>\n",
              "    </tr>\n",
              "  </tbody>\n",
              "</table>\n",
              "<p>920 rows × 14 columns</p>\n",
              "</div>"
            ],
            "text/plain": [
              "      age     sex               cp    trestbps   chol    fbs  \\\n",
              "0    63.0    Male   typical angina  145.000000  233.0   True   \n",
              "1    67.0    Male     asymptomatic  160.000000  286.0  False   \n",
              "2    67.0    Male     asymptomatic  120.000000  229.0  False   \n",
              "3    37.0    Male      non-anginal  130.000000  250.0  False   \n",
              "4    41.0  Female  atypical angina  130.000000  204.0  False   \n",
              "..    ...     ...              ...         ...    ...    ...   \n",
              "915  54.0  Female     asymptomatic  127.000000  333.0   True   \n",
              "916  62.0    Male   typical angina  132.132404  139.0  False   \n",
              "917  55.0    Male     asymptomatic  122.000000  223.0   True   \n",
              "918  58.0    Male     asymptomatic  132.132404  385.0   True   \n",
              "919  62.0    Male  atypical angina  120.000000  254.0  False   \n",
              "\n",
              "              restecg      thalch  exang   oldpeak        slope        ca  \\\n",
              "0      lv hypertrophy  150.000000  False  2.300000  downsloping  0.000000   \n",
              "1      lv hypertrophy  108.000000   True  1.500000         flat  3.000000   \n",
              "2      lv hypertrophy  129.000000   True  2.600000         flat  2.000000   \n",
              "3              normal  187.000000  False  3.500000  downsloping  0.000000   \n",
              "4      lv hypertrophy  172.000000  False  1.400000    upsloping  0.000000   \n",
              "..                ...         ...    ...       ...          ...       ...   \n",
              "915  st-t abnormality  154.000000  False  0.000000         flat  0.676375   \n",
              "916  st-t abnormality  137.545665  False  0.878788         flat  0.676375   \n",
              "917  st-t abnormality  100.000000  False  0.000000         flat  0.676375   \n",
              "918    lv hypertrophy  137.545665  False  0.878788         flat  0.676375   \n",
              "919    lv hypertrophy   93.000000   True  0.000000         flat  0.676375   \n",
              "\n",
              "                  thal  target  \n",
              "0         fixed defect     0.0  \n",
              "1               normal     1.0  \n",
              "2    reversable defect     1.0  \n",
              "3               normal     0.0  \n",
              "4               normal     0.0  \n",
              "..                 ...     ...  \n",
              "915             normal     1.0  \n",
              "916             normal     0.0  \n",
              "917       fixed defect     1.0  \n",
              "918             normal     0.0  \n",
              "919             normal     1.0  \n",
              "\n",
              "[920 rows x 14 columns]"
            ]
          },
          "execution_count": 17,
          "metadata": {},
          "output_type": "execute_result"
        }
      ],
      "source": [
        "df"
      ]
    },
    {
      "cell_type": "markdown",
      "id": "f3286b0a-9235-4ea8-ad8b-ba15d6857558",
      "metadata": {
        "id": "f3286b0a-9235-4ea8-ad8b-ba15d6857558"
      },
      "source": [
        "#### ===============================\n",
        "#### 7. Train/Test Split\n",
        "#### ==============================="
      ]
    },
    {
      "cell_type": "code",
      "execution_count": 18,
      "id": "82d7d9e8-ba0c-4e97-8975-b5f900999a2e",
      "metadata": {
        "colab": {
          "base_uri": "https://localhost:8080/"
        },
        "id": "82d7d9e8-ba0c-4e97-8975-b5f900999a2e",
        "outputId": "72093683-9f80-41fb-d26e-41639954bf77"
      },
      "outputs": [
        {
          "name": "stdout",
          "output_type": "stream",
          "text": [
            "Train shape: (736, 18)\n",
            "Test shape: (184, 18)\n"
          ]
        }
      ],
      "source": [
        "X = df_encoded.drop('target', axis=1)\n",
        "y = df_encoded['target']\n",
        "\n",
        "X_train, X_test, y_train, y_test = train_test_split(X, y, test_size=0.2, random_state=42, stratify=y)\n",
        "\n",
        "print(\"Train shape:\", X_train.shape)\n",
        "print(\"Test shape:\", X_test.shape)"
      ]
    },
    {
      "cell_type": "markdown",
      "id": "67d3f59f-b7cb-4431-b59a-119cb8781c8c",
      "metadata": {
        "id": "67d3f59f-b7cb-4431-b59a-119cb8781c8c"
      },
      "source": [
        "#### ===============================\n",
        "#### 8. Model Training\n",
        "#### ==============================="
      ]
    },
    {
      "cell_type": "code",
      "execution_count": 19,
      "id": "PwS0uTS9Bpk8",
      "metadata": {
        "colab": {
          "base_uri": "https://localhost:8080/"
        },
        "id": "PwS0uTS9Bpk8",
        "outputId": "ce1cdcf8-2a74-4b62-cb7c-4513ef94b4f3"
      },
      "outputs": [
        {
          "name": "stdout",
          "output_type": "stream",
          "text": [
            "DecisionTree Model training completed.\n"
          ]
        }
      ],
      "source": [
        "model1 = DecisionTreeClassifier()\n",
        "model1.fit(X_train,y_train)\n",
        "print(\"DecisionTree Model training completed.\")"
      ]
    },
    {
      "cell_type": "code",
      "execution_count": 20,
      "id": "50b9b8f7-f5a2-44b4-8079-3fe76bcd2440",
      "metadata": {
        "colab": {
          "base_uri": "https://localhost:8080/"
        },
        "id": "50b9b8f7-f5a2-44b4-8079-3fe76bcd2440",
        "outputId": "1b408639-e545-4a5c-c3bd-eb68b65986cf"
      },
      "outputs": [
        {
          "name": "stdout",
          "output_type": "stream",
          "text": [
            "Model training completed.\n"
          ]
        }
      ],
      "source": [
        "model = LogisticRegression(max_iter=1000)\n",
        "model.fit(X_train, y_train)\n",
        "\n",
        "print(\"Model training completed.\")"
      ]
    },
    {
      "cell_type": "code",
      "execution_count": 21,
      "id": "9d242ac6",
      "metadata": {},
      "outputs": [
        {
          "name": "stdout",
          "output_type": "stream",
          "text": [
            "forst training completed.\n"
          ]
        }
      ],
      "source": [
        "\n",
        "forest = RandomForestClassifier(random_state=42)\n",
        "forest.fit(X_train, y_train)\n",
        "print(\"forst training completed.\")"
      ]
    },
    {
      "cell_type": "code",
      "execution_count": 22,
      "id": "70001f7c",
      "metadata": {},
      "outputs": [
        {
          "name": "stdout",
          "output_type": "stream",
          "text": [
            "svc_model training completed.\n"
          ]
        }
      ],
      "source": [
        "svc_model = SVC(class_weight='balanced', random_state=42)\n",
        "svc_model.fit(X_train, y_train)\n",
        "print(\"svc_model training completed.\")"
      ]
    },
    {
      "cell_type": "markdown",
      "id": "4c2ae71a-c652-4c0b-88c6-ecedd3bc94a0",
      "metadata": {
        "id": "4c2ae71a-c652-4c0b-88c6-ecedd3bc94a0"
      },
      "source": [
        "### ===============================\n",
        "### 9. Model Evaluation\n",
        "### ==============================="
      ]
    },
    {
      "cell_type": "code",
      "execution_count": 23,
      "id": "ecf8f868-106f-4df4-b2cc-0fe573f2fa92",
      "metadata": {
        "colab": {
          "base_uri": "https://localhost:8080/"
        },
        "id": "ecf8f868-106f-4df4-b2cc-0fe573f2fa92",
        "outputId": "0b313be4-ea6b-4fdc-e498-d06bbf81e0c7",
        "scrolled": true
      },
      "outputs": [
        {
          "name": "stdout",
          "output_type": "stream",
          "text": [
            "Accuracy: 0.8370\n"
          ]
        }
      ],
      "source": [
        "# Predictions\n",
        "y_pred = model.predict(X_test)\n",
        "\n",
        "# Accuracy\n",
        "acc = accuracy_score(y_test, y_pred)\n",
        "print(f\"Accuracy: {acc:.4f}\")\n",
        "\n"
      ]
    },
    {
      "cell_type": "code",
      "execution_count": 24,
      "id": "vPWBatP6CKFL",
      "metadata": {
        "colab": {
          "base_uri": "https://localhost:8080/"
        },
        "id": "vPWBatP6CKFL",
        "outputId": "ad621d93-0655-4c07-96f4-00762f76b540"
      },
      "outputs": [
        {
          "name": "stdout",
          "output_type": "stream",
          "text": [
            "DecisionTree Accuracy: 0.8370\n"
          ]
        }
      ],
      "source": [
        "# Predictions\n",
        "y_pred_dt = model1.predict(X_test)\n",
        "\n",
        "# Accuracy\n",
        "acc1 = accuracy_score(y_test, y_pred_dt)\n",
        "print(f\"DecisionTree Accuracy: {acc:.4f}\")"
      ]
    },
    {
      "cell_type": "code",
      "execution_count": 25,
      "id": "fadd1185",
      "metadata": {},
      "outputs": [
        {
          "name": "stdout",
          "output_type": "stream",
          "text": [
            "\n",
            "🔹 Random Forest Classifier\n",
            "Accuracy: 0.8478260869565217\n",
            "Confusion Matrix:\n",
            " [[64 18]\n",
            " [10 92]]\n",
            "Classification Report:\n",
            "               precision    recall  f1-score   support\n",
            "\n",
            "         0.0       0.86      0.78      0.82        82\n",
            "         1.0       0.84      0.90      0.87       102\n",
            "\n",
            "    accuracy                           0.85       184\n",
            "   macro avg       0.85      0.84      0.84       184\n",
            "weighted avg       0.85      0.85      0.85       184\n",
            "\n"
          ]
        }
      ],
      "source": [
        "y_pred_forest = forest.predict(X_test)\n",
        "print(\"\\n🔹 Random Forest Classifier\")\n",
        "print(\"Accuracy:\", accuracy_score(y_test, y_pred_forest))\n",
        "print(\"Confusion Matrix:\\n\", confusion_matrix(y_test, y_pred_forest))\n",
        "print(\"Classification Report:\\n\", classification_report(y_test, y_pred_forest))"
      ]
    },
    {
      "cell_type": "code",
      "execution_count": 26,
      "id": "6cde9049",
      "metadata": {},
      "outputs": [
        {
          "name": "stdout",
          "output_type": "stream",
          "text": [
            "SVM Accuracy: 0.8370\n"
          ]
        }
      ],
      "source": [
        "# Predictions\n",
        "y_pred_SVM = svc_model.predict(X_test)\n",
        "\n",
        "# Accuracy\n",
        "acc2 = accuracy_score(y_test, y_pred_SVM)\n",
        "print(f\"SVM Accuracy: {acc:.4f}\")\n"
      ]
    },
    {
      "cell_type": "code",
      "execution_count": 27,
      "id": "946bb5a2-1528-4f2c-851a-1af5687f95e7",
      "metadata": {
        "colab": {
          "base_uri": "https://localhost:8080/"
        },
        "id": "946bb5a2-1528-4f2c-851a-1af5687f95e7",
        "outputId": "e377c608-737a-4fa6-c218-d727c4b71da8"
      },
      "outputs": [
        {
          "name": "stdout",
          "output_type": "stream",
          "text": [
            "\n",
            "Classification Report:\n",
            "              precision    recall  f1-score   support\n",
            "\n",
            "         0.0       0.84      0.78      0.81        82\n",
            "         1.0       0.83      0.88      0.86       102\n",
            "\n",
            "    accuracy                           0.84       184\n",
            "   macro avg       0.84      0.83      0.83       184\n",
            "weighted avg       0.84      0.84      0.84       184\n",
            "\n"
          ]
        }
      ],
      "source": [
        "# Classification Report\n",
        "print(\"\\nClassification Report:\")\n",
        "print(classification_report(y_test, y_pred))"
      ]
    },
    {
      "cell_type": "code",
      "execution_count": 28,
      "id": "5247b350-1933-4d5d-a3c1-de1b45e2f605",
      "metadata": {
        "colab": {
          "base_uri": "https://localhost:8080/",
          "height": 410
        },
        "id": "5247b350-1933-4d5d-a3c1-de1b45e2f605",
        "outputId": "63cb4443-1a37-4aad-c4a6-13d48535e040"
      },
      "outputs": [
        {
          "data": {
            "image/png": "[encoded data removed]",
            "text/plain": [
              "<Figure size 600x400 with 1 Axes>"
            ]
          },
          "metadata": {},
          "output_type": "display_data"
        }
      ],
      "source": [
        "# Confusion Matrix\n",
        "cm = confusion_matrix(y_test, y_pred)\n",
        "\n",
        "plt.figure(figsize=(6,4))\n",
        "sns.heatmap(cm, annot=True, fmt=\"d\", cmap=\"Blues\", cbar=False,\n",
        "            xticklabels=model.classes_, yticklabels=model.classes_)\n",
        "plt.xlabel(\"Predicted\")\n",
        "plt.ylabel(\"Actual\")\n",
        "plt.title(\"Confusion Matrix\")\n",
        "plt.show()"
      ]
    },
    {
      "cell_type": "code",
      "execution_count": 29,
      "id": "3wL3uxOz-kFM",
      "metadata": {
        "id": "3wL3uxOz-kFM"
      },
      "outputs": [
        {
          "data": {
            "image/png": "[encoded data removed]",
            "text/plain": [
              "<Figure size 600x400 with 1 Axes>"
            ]
          },
          "metadata": {},
          "output_type": "display_data"
        }
      ],
      "source": [
        "# Confusion Matrix\n",
        "cm = confusion_matrix(y_test, y_pred_dt)\n",
        "\n",
        "plt.figure(figsize=(6,4))\n",
        "sns.heatmap(cm, annot=True, fmt=\"d\", cmap=\"Blues\", cbar=False,\n",
        "            xticklabels=model.classes_, yticklabels=model.classes_)\n",
        "plt.xlabel(\"Predicted\")\n",
        "plt.ylabel(\"Actual\")\n",
        "plt.title(\"Confusion Matrix\")\n",
        "plt.show()"
      ]
    },
    {
      "cell_type": "code",
      "execution_count": 30,
      "id": "7307012b",
      "metadata": {},
      "outputs": [
        {
          "data": {
            "image/png": "[encoded data removed]",
            "text/plain": [
              "<Figure size 600x400 with 1 Axes>"
            ]
          },
          "metadata": {},
          "output_type": "display_data"
        }
      ],
      "source": [
        "# Confusion Matrix\n",
        "cm = confusion_matrix(y_test, y_pred_forest)\n",
        "\n",
        "plt.figure(figsize=(6,4))\n",
        "sns.heatmap(cm, annot=True, fmt=\"d\", cmap=\"Blues\", cbar=False,\n",
        "            xticklabels=model.classes_, yticklabels=model.classes_)\n",
        "plt.xlabel(\"Predicted\")\n",
        "plt.ylabel(\"Actual\")\n",
        "plt.title(\"Confusion Matrix\")\n",
        "plt.show()"
      ]
    },
    {
      "cell_type": "code",
      "execution_count": 31,
      "id": "56792ee9",
      "metadata": {},
      "outputs": [
        {
          "data": {
            "image/png": "[encoded data removed]",
            "text/plain": [
              "<Figure size 600x400 with 1 Axes>"
            ]
          },
          "metadata": {},
          "output_type": "display_data"
        }
      ],
      "source": [
        "# Confusion Matrix\n",
        "cm = confusion_matrix(y_test, y_pred_SVM)\n",
        "\n",
        "plt.figure(figsize=(6,4))\n",
        "sns.heatmap(cm, annot=True, fmt=\"d\", cmap=\"Blues\", cbar=False,\n",
        "            xticklabels=model.classes_, yticklabels=model.classes_)\n",
        "plt.xlabel(\"Predicted\")\n",
        "plt.ylabel(\"Actual\")\n",
        "plt.title(\"Confusion Matrix\")\n",
        "plt.show()"
      ]
    },
    {
      "cell_type": "code",
      "execution_count": null,
      "id": "6310acc6",
      "metadata": {},
      "outputs": [],
      "source": []
    },
    {
      "cell_type": "code",
      "execution_count": null,
      "id": "30dc8b08",
      "metadata": {},
      "outputs": [],
      "source": []
    }
  ],
  "metadata": {
    "colab": {
      "provenance": []
    },
    "kernelspec": {
      "display_name": "Python 3",
      "language": "python",
      "name": "python3"
    },
    "language_info": {
      "codemirror_mode": {
        "name": "ipython",
        "version": 3
      },
      "file_extension": ".py",
      "mimetype": "text/x-python",
      "name": "python",
      "nbconvert_exporter": "python",
      "pygments_lexer": "ipython3",
      "version": "3.13.7"
    }
  },
  "nbformat": 4,
  "nbformat_minor": 5
}
